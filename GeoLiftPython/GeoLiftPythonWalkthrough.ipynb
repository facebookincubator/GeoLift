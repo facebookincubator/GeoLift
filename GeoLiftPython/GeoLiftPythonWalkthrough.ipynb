{
 "cells": [
  {
   "cell_type": "markdown",
   "id": "d65b81e8",
   "metadata": {},
   "source": [
    "# Welcome to the GeoLift walkthrough in Python\n",
    "\n",
    "This is a completed GeoLift single and multicell walkthrough in Python.\n",
    "\n",
    "\n",
    "## Installation\n",
    "\n",
    "Please check the README.md file for more details on how installing packages and setting up Python environment.\n"
   ]
  },
  {
   "cell_type": "markdown",
   "id": "f25fc52a",
   "metadata": {},
   "source": [
    "## Please read it before starting running this GeoLift walkthrough in Python\n",
    "\n",
    "To run the R `GeoLift` functions in Python, you need to add `GeoLift.` in front of it as in `GeoLift.GeoLiftMarketSelection` for example.\n",
    "\n",
    "There are 3 functions in Python under `utils.py`. For more details please run `help()` with the name of one the three function below as parameter, e.g. `help(ConvertDf)`: \n",
    "\n",
    "    - `GeoLiftData`: Load and return the dataset included in the GeoLift package. \n",
    "\n",
    "    - `GeoLiftPlot`: Receive a specific GeoLift Plot function (defined by the `func` parameter), its arguments and display the plot.\n",
    "\n",
    "    - `ConvertDf`: Convert R dataframe into Pandas if `conv_type = \"ToPandas\"` or convert Pandas dataframe into R if `conv_type = \"ToR\"`.\n",
    "\n",
    "\n",
    "To understand the paraments of a specfic R GeoLift function:\n",
    "- you can check the R versions:\n",
    "\n",
    "    - [GeoLift Walkthrough](https://facebookincubator.github.io/GeoLift/docs/GettingStarted/Walkthrough) to understand the main parameters used by the GeoLift Single-cell functions \n",
    "    - [GeoLift Multi-Cell Walkthough](https://facebookincubator.github.io/GeoLift/docs/GettingStarted/MultiCellWalkthrough) to understand the main parameters used by the GeoLift Multicell functions.\n",
    "\n",
    "\n",
    "- or you case use the command `print(r.help(\"name of the function in R\"))` without `GeoLift.`. See the following command examples: `print(r.help(\"GeoDataRead\"))`, `print(r.help(\"GeoLiftMarketSelection\"))`.\n",
    "\n",
    "For vectors as input, you need to specify if it's a vector of list (defined by `ListVector`), vector of integers (`IntVector`) or vector of strings (`StrVector`). These are the equivalent of `c()` in R.\n",
    "\n",
    "For creating a sequence of numbers as input, use `r.seq()`. This is the equivalent of `seq()` in R.\n",
    "\n",
    "It's recommended to input only rpy2 or R objects in the GeoLift functions to run it properly."
   ]
  },
  {
   "cell_type": "markdown",
   "id": "1be5dd33",
   "metadata": {},
   "source": [
    "Load libraries"
   ]
  },
  {
   "cell_type": "code",
   "execution_count": 30,
   "id": "7160c0cd",
   "metadata": {},
   "outputs": [],
   "source": [
    "#To import rpy2 objects\n",
    "from rpy2.robjects import packages, StrVector, IntVector, ListVector, r\n",
    "from rpy2.robjects.packages import importr\n",
    "\n",
    "import pandas as pd\n",
    "\n",
    "#Import GeoLift, GeoLiftPlot and Convert functions\n",
    "from utils import GeoLiftData, GeoLift, GeoLiftPlot, ConvertDf"
   ]
  },
  {
   "cell_type": "markdown",
   "id": "0d70fa19",
   "metadata": {},
   "source": [
    "# GeoLift Single cell \n",
    "\n",
    "## Example - Data\n",
    "\n",
    "To show an end-to-end implementation of GeoLift we will use simulated data of 40 US cities across 90 days to: design a test, select test markets, run power calculations, and finally calculate the Lift caused by the campaign. As with every GeoLift test, we start analyzing pre-test historical information. We will use the data included in the GeoLiftPython folder.\n",
    "\n"
   ]
  },
  {
   "cell_type": "code",
   "execution_count": 31,
   "id": "112134f6",
   "metadata": {},
   "outputs": [],
   "source": [
    "pd_GeoLift_PreTest = pd.read_csv(\"GeoLift_PreTest.csv\")\n",
    "pd_GeoLift_PreTest.head()"
   ]
  },
  {
   "cell_type": "markdown",
   "id": "a673721f",
   "metadata": {},
   "source": [
    "The GeoLift_PreTest data set contains three variables:\n",
    "\n",
    "1. location (city)\n",
    "2. date (in “yyyy-mm-dd” format)\n",
    "3. Y (number of conversions/KPI in each day/location).\n",
    "\n",
    "Every GeoLift experiment should contain at least these three variables that reflect when, where, and how much of the KPI was measured. Nevertheless, if you have more data available, you can include covariates to GeoLift to improve our results through the X parameter of all GeoLift functions.\n",
    "\n",
    "To input the dataset in the GeoLift functions you need to convert it to a R dataframe using `ConvertDf()` setting up the `conv_type = \"ToR\"`. Then you can use `print()` to print the R dataframe in the screen."
   ]
  },
  {
   "cell_type": "code",
   "execution_count": 87,
   "id": "839d967a",
   "metadata": {},
   "outputs": [],
   "source": [
    "GeoLift_PreTest = ConvertDf(pd_GeoLift_PreTest, conv_type = \"ToR\")\n",
    "\n",
    "print(GeoLift_PreTest.head())"
   ]
  },
  {
   "cell_type": "markdown",
   "id": "251bdf78",
   "metadata": {},
   "source": [
    "The first step to run a GeoLift test is to read the data into the proper format using the GeoDataRead function."
   ]
  },
  {
   "cell_type": "code",
   "execution_count": 88,
   "id": "f5412390",
   "metadata": {},
   "outputs": [],
   "source": [
    "GeoTestData_PreTest = GeoLift.GeoDataRead(data = GeoLift_PreTest,\n",
    "                                          date_id = \"date\",\n",
    "                                          location_id = \"location\",\n",
    "                                          Y_id = \"Y\",\n",
    "                                          X = StrVector([]), #empty list as we have no covariates\n",
    "                                          format = \"yyyy-mm-dd\",\n",
    "                                          summary = True)"
   ]
  },
  {
   "cell_type": "markdown",
   "id": "a1383a1a",
   "metadata": {},
   "source": [
    "This function analyzes the data set, handles locations with missing data, and returns a R data frame with time-stamps instead of dates. In this case, since we’re inputting daily data each time unit represents a day.\n",
    "\n",
    "Note: Before reading the data into this format, always make sure that there are no missing variables, NAs, or locations with missing time-stamps as those will be dropped by the `GeoLift.GeoDataRead()` function."
   ]
  },
  {
   "cell_type": "markdown",
   "id": "f2e8d3cd",
   "metadata": {},
   "source": [
    "You can visualize in Pandas the dataframe formatted using `ConvertDf()`."
   ]
  },
  {
   "cell_type": "code",
   "execution_count": 89,
   "id": "82148cf4",
   "metadata": {},
   "outputs": [],
   "source": [
    "pd_GeoTestData_PreTest = ConvertDf(GeoTestData_PreTest, conv_type = \"ToPandas\")\n",
    "\n",
    "pd_GeoTestData_PreTest.head()"
   ]
  },
  {
   "cell_type": "markdown",
   "id": "37cac463",
   "metadata": {},
   "source": [
    "A good next step is to plot the panel data with `GeoPlot()` setting up the partamer `func = GeoLift.GeoPlot` to observe it’s trend, contribution per location, and also to detect any data anomalies before moving on to the data analysis. grdevices.render_to_bytesion, display and Image functions are used in combination to plot and display charts."
   ]
  },
  {
   "cell_type": "code",
   "execution_count": 35,
   "id": "5a19406e",
   "metadata": {},
   "outputs": [],
   "source": [
    "GeoLiftPlot(func = GeoLift.GeoPlot,\n",
    "            data = GeoTestData_PreTest,\n",
    "            Y_id = \"Y\",\n",
    "            time_id = \"time\",\n",
    "            location_id = \"location\")"
   ]
  },
  {
   "cell_type": "markdown",
   "id": "eb40261d",
   "metadata": {},
   "source": [
    "In this case we see a similar pattern that’s shared across all locations. These structural similarities between regions are the key to a successful test!"
   ]
  },
  {
   "cell_type": "markdown",
   "id": "1c916385",
   "metadata": {},
   "source": [
    "## Example - Power Analysis\n",
    "\n",
    "Running a prospective power analysis is fundamental prior to executing a test. It is only through a thorough statistical analysis of our data that we can set it up for success. In general, through the power analysis we can find:\n",
    "\n",
    "- The optimal number of test locations.\n",
    "\n",
    "- Best test duration.\n",
    "\n",
    "- Select the ideal test and control markets.\n",
    "\n",
    "- Get a good estimate of the budget needed to run the test.\n",
    "\n",
    "- Determine which is the Minimum Detectable Effect to obtain significant results.\n",
    "\n",
    "- Align expectations.\n",
    "\n",
    "Assessing the power and selecting the test markets for a GeoLift test can be accomplished through the `GeoLiftMarketSelection()`. Through a series of simulations, this algorithm will find which are the best combinations of test and control locations for the experiment. Moreover, for each of these test market selections, the function will display the Minimum Detectable Effect, minimum investment needed to run a successful test, and other important model-fit metrics that will help us select the test that best matches our goals and resources.\n",
    "\n",
    "To understand the main parameters in the `GeoLiftMarketSelection()` please check the [GeoLift Walkthrough](https://facebookincubator.github.io/GeoLift/docs/GettingStarted/Walkthrough).\n",
    "\n",
    "Continuing with the example and in order to explore the function’s capabilities let’s assume we have two restrictions: Chicago must be part of the test markets and we have up to \\\\$100,000 to run the test. We can include these constraints into `GeoLiftMarketSelection()` with the `include_markets` and `budget` parameters and proceed with the market selection. Moreover, after observing that the historical KPI values in `GeoPlot()` have been stable across time we will proceed with a model with Fixed Effects. Finally, given a CPIC = \\\\$7.50 obtained from a previous Lift test, a range between two to five test markets, and a duration between 10 and 15 days we obtain:\n"
   ]
  },
  {
   "cell_type": "code",
   "execution_count": 90,
   "id": "82f909d7",
   "metadata": {},
   "outputs": [],
   "source": [
    "MarketSelections = GeoLift.GeoLiftMarketSelection(data = GeoTestData_PreTest,\n",
    "                                                  treatment_periods = IntVector([10,15]),\n",
    "                                                  N = IntVector([2, 3, 4, 5]),\n",
    "                                                  Y_id = \"Y\",\n",
    "                                                  location_id = \"location\",\n",
    "                                                  time_id = \"time\",\n",
    "                                                  effect_size = r.seq(0, 0.5, 0.05),\n",
    "                                                  lookback_window = 1, \n",
    "                                                  include_markets = StrVector(['chicago']),\n",
    "                                                  exclude_markets = StrVector(['honolulu']),\n",
    "                                                  holdout = IntVector([0.5,1]),\n",
    "                                                  cpic = 7.50,\n",
    "                                                  budget = 100000,\n",
    "                                                  alpha = 0.1,\n",
    "                                                  Correlations = True,\n",
    "                                                  fixed_effects = True,\n",
    "                                                  side_of_test = \"two_sided\")"
   ]
  },
  {
   "cell_type": "markdown",
   "id": "c26bd70e",
   "metadata": {},
   "source": [
    "You can visualize the best test markets converting the first position `[0]` of `MarketSelections` using `ConvertDf()`."
   ]
  },
  {
   "cell_type": "code",
   "execution_count": 91,
   "id": "2a85837b",
   "metadata": {},
   "outputs": [],
   "source": [
    "MarketSelections_BestMarkets = ConvertDf(MarketSelections[0], conv_type = \"ToPandas\")\n",
    "\n",
    "MarketSelections_BestMarkets.head()"
   ]
  },
  {
   "cell_type": "markdown",
   "id": "f0093d19",
   "metadata": {},
   "source": [
    "The results in `MarketSelections` show that the test markets with the best ranks are: `(atlanta, chicago, las vegas, saint paul)` and `(chicago, portland)`. We can plot these last two results to inspect them further setting up the parameter `func = GeoLift.plot_GeoLiftMarketSelection` in the `GeoLiftPlot()`. This plot will show how the results of the `GeoLift()` model would look like with the latest possible test period as well as the test’s power curve across a single simulation."
   ]
  },
  {
   "cell_type": "code",
   "execution_count": 42,
   "id": "69334841",
   "metadata": {},
   "outputs": [],
   "source": [
    "# Plot for atlanta, chicago, las vegas and saint paul for a 15 day test\n",
    "GeoLiftPlot(func = GeoLift.plot_GeoLiftMarketSelection,\n",
    "            x = MarketSelections,\n",
    "            market_ID = 1, \n",
    "            print_summary = False)"
   ]
  },
  {
   "cell_type": "code",
   "execution_count": 43,
   "id": "f19a7d77",
   "metadata": {},
   "outputs": [],
   "source": [
    "# Plot for chicago and porland for a 15 day test\n",
    "GeoLiftPlot(func = GeoLift.plot_GeoLiftMarketSelection,\n",
    "            x = MarketSelections,\n",
    "            market_ID = 2, \n",
    "            print_summary = False)"
   ]
  },
  {
   "cell_type": "markdown",
   "id": "61fdf79b",
   "metadata": {},
   "source": [
    "### Power output - deep dive into power curves\n",
    "\n",
    "In order to ensure that power is consistent throughout time for these locations, we can run more than 1 simulation for each of the top contenders that came out of `GeoLiftMarketSelection`.\n",
    "\n",
    "We will do this by running the `GeoLiftPower` method and expanding our `lookback_window` to 10 days, only for this treatment combination and plot their results.\n",
    "\n",
    "**NOTE: You could repeat this process for the top 5 treatment combinations that come out of GeoLiftMarketSelection, with increased lookback windows and compare their power curves. We will do it only for Chicago and Portland here.**"
   ]
  },
  {
   "cell_type": "code",
   "execution_count": 92,
   "id": "f122da19",
   "metadata": {},
   "outputs": [],
   "source": [
    "power_data = GeoLift.GeoLiftPower(data = GeoTestData_PreTest,\n",
    "                                    locations = StrVector(['chicago', 'portland']),\n",
    "                                    effect_size = r.seq(-0.25, 0.25, 0.01),\n",
    "                                    lookback_window = 10,\n",
    "                                    treatment_periods = 15,\n",
    "                                    cpic = 7.5,\n",
    "                                    side_of_test = \"two_sided\")"
   ]
  },
  {
   "cell_type": "code",
   "execution_count": 45,
   "id": "ed2ddfde",
   "metadata": {},
   "outputs": [],
   "source": [
    "GeoLiftPlot(func = GeoLift.plot_GeoLiftPower,\n",
    "            x = power_data, \n",
    "            show_mde = True, \n",
    "            smoothed_values = False, \n",
    "            breaks_x_axis = 5)    "
   ]
  },
  {
   "cell_type": "markdown",
   "id": "c44bdded",
   "metadata": {},
   "source": [
    "While both market selections perform excellent on all metrics, we will move further with the latter since it allows us to run a successful test with a smaller budget. Also, the power curve is symmetrical with respect to the y axis, it has no power when the true effect is zero, and has a similar behavior with more simulations. Finally, changing the `print_summary` parameter of `GeoLiftPlot` to `True` can provide us with additional information about this market selection."
   ]
  },
  {
   "cell_type": "code",
   "execution_count": 46,
   "id": "1f93b293",
   "metadata": {},
   "outputs": [],
   "source": [
    "# Plot for chicago and porland for a 15 day test\n",
    "GeoLiftPlot(func = GeoLift.plot_GeoLiftMarketSelection,\n",
    "            x = MarketSelections,\n",
    "            market_ID = 2, \n",
    "            print_summary = False)"
   ]
  },
  {
   "cell_type": "markdown",
   "id": "369c1f1a",
   "metadata": {},
   "source": [
    "**Note: Given that we are not using the complete pre-treatment data to calculate the weights in our power analysis simulations, the ones displayed by the plotting function above are not the final values. However, you can easily obtain them with the `GetWeights()`.**"
   ]
  },
  {
   "cell_type": "code",
   "execution_count": 93,
   "id": "b3745dd4",
   "metadata": {},
   "outputs": [],
   "source": [
    "weights = GeoLift.GetWeights(data = GeoTestData_PreTest,\n",
    "                             Y_id = \"Y\",\n",
    "                             location_id = \"location\",\n",
    "                             time_id = \"time\",\n",
    "                             locations = StrVector(['chicago', 'portland']),\n",
    "                             pretreatment_end_time = 90,\n",
    "                             fixed_effects = True)"
   ]
  },
  {
   "cell_type": "markdown",
   "id": "914bf717",
   "metadata": {},
   "source": [
    "You can check the top weights by converting `weights` to pandas as shown below."
   ]
  },
  {
   "cell_type": "code",
   "execution_count": 94,
   "id": "eae61aa4",
   "metadata": {},
   "outputs": [],
   "source": [
    "weights_pd = ConvertDf(df = weights, conv_type= \"ToPandas\")\n",
    "\n",
    "# Top weights\n",
    "weights_pd.sort_values(['weight'], axis=0, ascending=False).head()"
   ]
  },
  {
   "cell_type": "markdown",
   "id": "e0ae74c0",
   "metadata": {},
   "source": [
    "## Example - Analyzing the Test Results\n",
    "\n",
    "Based on the results of the Power Calculations, a test is set-up in which a //$65,000 and 15-day marketing campaign was executed in the cities of Chicago and Portland while the rest of the locations were put on holdout. Following the completion from this marketing campaign, we receive sales data that reflects these results. This new data-set contains the same format and information as the pre-test one but crucially includes results for the duration of the campaign. Depending on the vertical and product, adding a post-campaign cooldown period might be useful.\n",
    "\n",
    "### Test Data\n",
    "\n",
    "Data for the campaign results can be accessed at `GeoLift_Test` that you can find in the GeoLiftPython folder.\n",
    "\n"
   ]
  },
  {
   "cell_type": "code",
   "execution_count": 95,
   "id": "aa937616",
   "metadata": {},
   "outputs": [],
   "source": [
    "pd_GeoLift_Test = pd.read_csv(\"GeoLift_Test.csv\")\n",
    "pd_GeoLift_Test.head()"
   ]
  },
  {
   "cell_type": "markdown",
   "id": "70977fb7",
   "metadata": {},
   "source": [
    "To input the dataset in the GeoLift functions you need to convert it to a R dataframe using `ConvertDf()`. Then you can use `print()` to print the R dataframe in the screen."
   ]
  },
  {
   "cell_type": "code",
   "execution_count": 96,
   "id": "f3d40763",
   "metadata": {},
   "outputs": [],
   "source": [
    "GeoLift_Test = ConvertDf(pd_GeoLift_Test, conv_type = \"ToR\")\n",
    "\n",
    "print(GeoLift_Test.head())"
   ]
  },
  {
   "cell_type": "markdown",
   "id": "5979f556",
   "metadata": {},
   "source": [
    "Similarly to the process executed at the beginning of the Power Analysis phase, we read the data into GeoLift’s format using the `GeoDataRead` function. You can observe in the summary output that additional 15 periods are contained in the new GeoLift data object."
   ]
  },
  {
   "cell_type": "code",
   "execution_count": 97,
   "id": "8d85fd35",
   "metadata": {},
   "outputs": [],
   "source": [
    "GeoTestData_Test = GeoLift.GeoDataRead(data = GeoLift_Test,\n",
    "                                       date_id = 'date',\n",
    "                                       location_id = 'location',\n",
    "                                       Y_id = 'Y',\n",
    "                                       X = StrVector([]), #empty list as we have no covariates\n",
    "                                       format = 'yyyy-mm-dd',\n",
    "                                       summary = True)"
   ]
  },
  {
   "cell_type": "markdown",
   "id": "340da067",
   "metadata": {},
   "source": [
    "You can visualize in Pandas the dataframe formatted using `ConvertDf()`."
   ]
  },
  {
   "cell_type": "code",
   "execution_count": 98,
   "id": "d52974d7",
   "metadata": {},
   "outputs": [],
   "source": [
    "pd_GeoTestData_Test = ConvertDf(GeoTestData_Test, conv_type = \"ToPandas\")\n",
    "\n",
    "pd_GeoTestData_Test.head()"
   ]
  },
  {
   "cell_type": "markdown",
   "id": "f8ecaf09",
   "metadata": {},
   "source": [
    "The results can also be plotted by setting up the `func = GeoLift.GeoPlot` in the `GeoLiftPlot` function. However, for post-campaign data we can include the time-stamp at which the campaign started through the `treatment_start` parameter to clearly separate the two periods. Plotting the time-series is always useful to detect any anomalies with the data and to start noticing patterns with the test."
   ]
  },
  {
   "cell_type": "code",
   "execution_count": 53,
   "id": "4f35032b",
   "metadata": {},
   "outputs": [],
   "source": [
    "GeoLiftPlot(func = GeoLift.GeoPlot,\n",
    "            data = GeoTestData_Test,\n",
    "            Y_id = \"Y\",\n",
    "            time_id = \"time\",\n",
    "            location_id = \"location\")\n"
   ]
  },
  {
   "cell_type": "markdown",
   "id": "731ec6d4",
   "metadata": {},
   "source": [
    "### GeoLift Inference\n",
    "\n",
    "The next step in the process is to calculate the actual Lift caused by the marketing campaigns on our test locations. To do so we make use of the `GeoLift()` function, which will take as input the GeoLift dataframe as well as information about the test such as which were the cities in the treatment group, when the test started, and when it ended through the `locations`, `treatment_start_time`, and `treatment_end_time` parameters respectively."
   ]
  },
  {
   "cell_type": "code",
   "execution_count": 54,
   "id": "8ff2085b",
   "metadata": {},
   "outputs": [],
   "source": [
    "GeoTest = GeoLift.GeoLift(Y_id = \"Y\",\n",
    "                          data = GeoTestData_Test,\n",
    "                          locations = StrVector(['chicago', 'portland']),\n",
    "                          treatment_start_time = 91,\n",
    "                          treatment_end_time = 105)"
   ]
  },
  {
   "cell_type": "markdown",
   "id": "b42449de",
   "metadata": {},
   "source": [
    "To dig deeper into the results, we can run the `summary_GeoLift()` with `GeoLift` object as input."
   ]
  },
  {
   "cell_type": "code",
   "execution_count": 99,
   "id": "d63dd10c",
   "metadata": {},
   "outputs": [],
   "source": [
    "p = GeoLift.summary_GeoLift(GeoTest)\n",
    "print(p)"
   ]
  },
  {
   "cell_type": "markdown",
   "id": "7959d4a9",
   "metadata": {},
   "source": [
    "The results show that the campaigns led to a 5.4% lift in units sold corresponding to 4667 incremental units for this 15-day test. Moreover, the Average Estimated Treatment Effect is of 155.556 units every day of the test. Most importantly, we observe that these results are statistically significant at a 95% level. In fact, there’s only a 1.1% chance of observing an effect of this magnitude or larger if the actual treatment effect was zero. In other words, it is extremely unlikely that these results are just due to chance."
   ]
  },
  {
   "cell_type": "code",
   "execution_count": 56,
   "id": "16b8c219",
   "metadata": {
    "scrolled": true
   },
   "outputs": [],
   "source": [
    "GeoLiftPlot(func = GeoLift.plot_GeoLift,\n",
    "            x = GeoTest, \n",
    "            type = \"Lift\")"
   ]
  },
  {
   "cell_type": "markdown",
   "id": "3fc0addf",
   "metadata": {},
   "source": [
    "Plotting the results is a great way to assess the model’s fit and how effective the campaign was. Taking a close look at the pre-treatment period (period before the dotted vertical line) provides insight into how well our Synthetic Control Model fitted our data. In this specific example, we see that the observed values of the Chicago + Portland test represented in the solid black line were closely replicated by our SCM model shown as the dashed red line. Furthermore, looking at the test period, we can notice the campaign’s incrementality shown as the difference between the sales observed in the test markets and our counterfactual synthetic location. This marked difference between an almost-exact match in pre-treatment periods and gap in test time-stamps provides strong evidence of a successful campaign."
   ]
  },
  {
   "cell_type": "code",
   "execution_count": 57,
   "id": "da1536ae",
   "metadata": {},
   "outputs": [],
   "source": [
    "GeoLiftPlot(func = GeoLift.plot_GeoLift,\n",
    "            x = GeoTest, \n",
    "            type = \"ATT\")"
   ]
  },
  {
   "cell_type": "markdown",
   "id": "4e359ac4",
   "metadata": {},
   "source": [
    "Looking at the Average Estimated Treatment Effect’s plot can also be extremely useful. The ATT metric shows us the magnitude of the Average Treatment Effect on a daily basis in contrast with the previous (Lift) plot which focused on aggregated effects. Moreover, this is a great example of a good GeoLift model as it has very small ATT values in the pre-treatment period and large ones when the treatment is administered to our test locations. Moreover, point-wise confidence intervals are included in this chart which help us measure how significant each day’s Lift has been.\n",
    "\n",
    "### Improving The Model\n"
   ]
  },
  {
   "cell_type": "code",
   "execution_count": 100,
   "id": "def1136d",
   "metadata": {},
   "outputs": [],
   "source": [
    "GeoTestBest = GeoLift.GeoLift(Y_id = \"Y\",\n",
    "                              data = GeoTestData_Test,\n",
    "                              locations = StrVector(['chicago', 'portland']),\n",
    "                              treatment_start_time = 91,\n",
    "                              treatment_end_time = 105,\n",
    "                              model = \"best\")"
   ]
  },
  {
   "cell_type": "code",
   "execution_count": 101,
   "id": "8bc80af1",
   "metadata": {},
   "outputs": [],
   "source": [
    "p = GeoLift.summary_GeoLift(GeoTestBest)\n",
    "print(p)"
   ]
  },
  {
   "cell_type": "code",
   "execution_count": 60,
   "id": "a3327b45",
   "metadata": {},
   "outputs": [],
   "source": [
    "GeoLiftPlot(func = GeoLift.plot_GeoLift,\n",
    "            x = GeoTestBest, \n",
    "            type = \"Lift\")"
   ]
  },
  {
   "cell_type": "code",
   "execution_count": 61,
   "id": "b3474c04",
   "metadata": {},
   "outputs": [],
   "source": [
    "GeoLiftPlot(func = GeoLift.plot_GeoLift,\n",
    "            x = GeoTestBest, \n",
    "            type = \"ATT\")"
   ]
  },
  {
   "cell_type": "markdown",
   "id": "c1dbee4c",
   "metadata": {},
   "source": [
    "The new results augment the GeoLift model with a Ridge prognostic function which improves the model fit as seen in the new L2 Imbalance metrics. This additional robustness is translated in a small increase in the Percent Lift. Furthermore, by augmenting the model with a prognostic function, we have an estimate of the estimated bias that was removed by the Augmented Synthetic Control Model."
   ]
  },
  {
   "cell_type": "markdown",
   "id": "e8859896",
   "metadata": {},
   "source": [
    "# GeoLift Multicell Walkthrough"
   ]
  },
  {
   "cell_type": "markdown",
   "id": "f188d30d",
   "metadata": {},
   "source": [
    "### I. Determining the number of Cells\n",
    "\n",
    "Figuring out how many cells will be measured in a GeoLift test is a crucial first step in the Multi-Cell process. Here, it is important to take into consideration that each cell will be measured by one or more test regions (city, state, DMA, etc.). Therefore, the total number of cells that can be measured with a GeoLift is bounded by the available data. Our recommendation is to be very conservative with the number of cells in a single\n",
    "GeoLift study.\n",
    "\n",
    "For this Walkthrough we will explore a cross-channel test to measure and compare the Lift of our largest Social Media and Paid Search channels. We will use the data included in the GeoLiftPython folder:"
   ]
  },
  {
   "cell_type": "code",
   "execution_count": 102,
   "id": "6e13db5a",
   "metadata": {},
   "outputs": [],
   "source": [
    "pd_GeoLift_PreTest = pd.read_csv(\"GeoLift_PreTest.csv\")\n",
    "\n",
    "# To input the dataset in the GeoLift functions you need to convert it to a R dataframe using ConvertDf()\n",
    "GeoLift_PreTest = ConvertDf(pd_GeoLift_PreTest, conv_type = \"ToR\")\n",
    "\n",
    "\n",
    "# Read into GeoLifts format with GeoDataRead\n",
    "GeoTestData_PreTest = GeoLift.GeoDataRead(data = GeoLift_PreTest,\n",
    "                                          date_id = \"date\",\n",
    "                                          location_id = \"location\",\n",
    "                                          Y_id = \"Y\",\n",
    "                                          X = StrVector([]), #empty list as we have no covariates\n",
    "                                          format = \"yyyy-mm-dd\",\n",
    "                                          summary = True)\n",
    "\n"
   ]
  },
  {
   "cell_type": "code",
   "execution_count": 63,
   "id": "d516bbbf",
   "metadata": {},
   "outputs": [],
   "source": [
    "# Plot the KPI's historical values\n",
    "GeoLiftPlot(func = GeoLift.GeoPlot,\n",
    "            data = GeoTestData_PreTest,\n",
    "            Y_id = \"Y\",\n",
    "            time_id = \"time\",\n",
    "            location_id = \"location\")"
   ]
  },
  {
   "cell_type": "markdown",
   "id": "160b3e2f",
   "metadata": {},
   "source": [
    "### II. Finding test markets with MultiCellMarketSelection\n",
    "\n",
    "Once the number of cells, `k`, is determined, we can proceed to find the optimal test markets for each cell through `MultiCellMarketSelection()`. Relying on a sampling method defined by the user, the algorithm will create k similar groups. For each group, the algorithm will run a series of simulations to determine the best combinations of test and control locations."
   ]
  },
  {
   "cell_type": "code",
   "execution_count": 64,
   "id": "aa466692",
   "metadata": {},
   "outputs": [],
   "source": [
    "set_seed = r('set.seed')\n",
    "set_seed(8) #To replicate the results\n",
    "\n",
    "Markets = GeoLift.MultiCellMarketSelection(data = GeoTestData_PreTest,\n",
    "                                           k = 2,\n",
    "                                           sampling_method = \"systematic\",\n",
    "                                           top_choices = 10,\n",
    "                                           N = IntVector([2, 3]),\n",
    "                                           Y_id = \"Y\",\n",
    "                                           location_id = \"location\",\n",
    "                                           time_id = \"time\",\n",
    "                                           effect_size = r.seq(0, 0.25, 0.025),\n",
    "                                           treatment_periods = IntVector([15]),\n",
    "                                           lookback_window = 1,\n",
    "                                           cpic = IntVector([7, 7.50]),\n",
    "                                           alpha = 0.1,\n",
    "                                           model = \"none\",\n",
    "                                           fixed_effects = True,\n",
    "                                           Correlations = True,\n",
    "                                           side_of_test = \"one_sided\")"
   ]
  },
  {
   "cell_type": "markdown",
   "id": "4950a70b",
   "metadata": {},
   "source": [
    "You can visualize the best combinations converting the first position `[0]` of `Markets` using `ConvertDf()`."
   ]
  },
  {
   "cell_type": "code",
   "execution_count": 103,
   "id": "3f13e6d5",
   "metadata": {},
   "outputs": [],
   "source": [
    "Markets_TopChoices = ConvertDf(Markets[0], conv_type = \"ToPandas\")\n",
    "    \n",
    "Markets_TopChoices"
   ]
  },
  {
   "cell_type": "markdown",
   "id": "5ed37254",
   "metadata": {},
   "source": [
    "The resulting table contains optimal test designs for this two-cell test as well as some model-fit metrics for each selection. \n",
    "\n",
    "Exploring the results of `MultiCellMarketSelection` we find that locations “chicago, cincinnati\" for Cell 1 and “honolulu, indianapolis” in Cell 2 provide excelent values across all model-fit metrics such as a low EffectSize, small AvgScaledL2Imbalance, an abs_lift_in_zero close to zero, and a very similar value of ProportionTotal_Y.\n",
    "\n",
    "We could define our Multi-Cell test markets as a list:"
   ]
  },
  {
   "cell_type": "code",
   "execution_count": 66,
   "id": "6a65cf5d",
   "metadata": {},
   "outputs": [],
   "source": [
    "# Cell and Market IDs in a list\n",
    "test_locs = ListVector({'cell_1': 1, \n",
    "                        'cell_2': 3}) "
   ]
  },
  {
   "cell_type": "markdown",
   "id": "c5c9f663",
   "metadata": {},
   "source": [
    "Moreover, we could plot these results to observe how the model fits the historical data setting up `func = GeoLift.plot_MultiCellMarketSelection` in the `GeoLiftPlot()`."
   ]
  },
  {
   "cell_type": "code",
   "execution_count": 67,
   "id": "254b6a60",
   "metadata": {},
   "outputs": [],
   "source": [
    "GeoLiftPlot(func = GeoLift.plot_MultiCellMarketSelection,\n",
    "            x = Markets, \n",
    "            test_markets = test_locs, \n",
    "            type = \"Lift\",\n",
    "            stacked = True)\n",
    "    "
   ]
  },
  {
   "cell_type": "markdown",
   "id": "db1061c6",
   "metadata": {},
   "source": [
    "### III. Detailed Power Curves\n",
    "\n",
    "Perhaps the most important piece of part of any Market Selection process is to obtain and analyze the test’s Power Curve. These curves tell us how sensible our test is at detecting a given Lift, it’s statistical power, and give us a good estimate of the necessary budget needed to run the Multi-Cell test. The `MultiCellPower` function can be used to calculate the Power Curves for a given set of cells through simulations on the historical data.\n",
    "\n",
    "The `MultiCellPower` function is very easy to use as it will leverage the set-up and results we obtained from MultiCellMarketSelection. "
   ]
  },
  {
   "cell_type": "code",
   "execution_count": 68,
   "id": "ca6acf3d",
   "metadata": {},
   "outputs": [],
   "source": [
    "Power = GeoLift.MultiCellPower(x = Markets,\n",
    "                               test_markets = test_locs,\n",
    "                               effect_size = r.seq(-0.5, 0.5, 0.05),\n",
    "                               lookback_window = 7)"
   ]
  },
  {
   "cell_type": "markdown",
   "id": "772a6594",
   "metadata": {},
   "source": [
    "Plotting the results shows the Power Curve for each cell. Set up `func = GeoLift.plot_MultiCellPower` in the `GeoLiftPlot()`."
   ]
  },
  {
   "cell_type": "code",
   "execution_count": 69,
   "id": "35221d04",
   "metadata": {},
   "outputs": [],
   "source": [
    "GeoLiftPlot(func = GeoLift.plot_MultiCellPower,\n",
    "            x = Power, \n",
    "            actual_values = True, \n",
    "            smoothed_values = False, \n",
    "            show_mde = True, \n",
    "            breaks_x_axis = 15, \n",
    "            stacked = True)"
   ]
  },
  {
   "cell_type": "markdown",
   "id": "146ed908",
   "metadata": {},
   "source": [
    "The plot shows that both Power Curves are ideal as they are: symmetric, centered at zero, and have relatively small effect sizes needed to accurately detect lift (~5%). Moreover, we observe that, despite different cpics, an investment of \\\\$50,000 per cell should be more than enough to achieve a significant Lift."
   ]
  },
  {
   "cell_type": "markdown",
   "id": "e2569bf7",
   "metadata": {},
   "source": [
    "### III.a [Optional]: MultiCellWinner\n",
    "\n",
    "While most of the times the objective of a Multi-Cell test is simply to accurately measure the incremental effect of different channels/strategies, sometimes we want to go a step further and declare which one of the competing cells is statistically significantly better or worse than the others. In this case, we can use the `MultiCellWinner` function, to determine what must happen for a cell to be declared a **“Winner”**. This function works by answering the following question: for a given baseline Effect Size, how much better must the incremental Return on Ad Spend (iROAS) of a cell be so that it provides a statistically significantly better Lift overall?"
   ]
  },
  {
   "cell_type": "code",
   "execution_count": 70,
   "id": "1635b02a",
   "metadata": {},
   "outputs": [],
   "source": [
    "Winners = GeoLift.MultiCellWinner(x = Power,\n",
    "                                  effect_size = 0.1,\n",
    "                                  geolift_type = \"standard\",\n",
    "                                  ROAS = r.seq(1,10,0.5),\n",
    "                                  alpha = 0.1,\n",
    "                                  method = \"conformal\",\n",
    "                                  stat_test = \"Positive\")"
   ]
  },
  {
   "cell_type": "markdown",
   "id": "9f320ce9",
   "metadata": {},
   "source": [
    "You can visualize the results from `MultiCellWinner` function by printing first position `[0]` of `Winners` with `print()`."
   ]
  },
  {
   "cell_type": "code",
   "execution_count": 104,
   "id": "85402dc2",
   "metadata": {},
   "outputs": [],
   "source": [
    "print(Winners[0])"
   ]
  },
  {
   "cell_type": "markdown",
   "id": "af68487b",
   "metadata": {},
   "source": [
    "These results show that Cell 1 would need to be 9x more effective than Cell 2 to be declared a **“Winner”**."
   ]
  },
  {
   "cell_type": "markdown",
   "id": "63eddc4b",
   "metadata": {},
   "source": [
    "### IV. Campaign Execution\n",
    "\n",
    "After successfully selecting the test markets with `MultiCellMarketSelection` and `MultiCellPower`, the campaigns can be executed. For this test we will run ads on Social Media for the cities of Chicago and Cincinnati (Cell 1), Paid Search ads for the cities of Honolulu and Indianapolis (Cell 2), and holdout the rest of the locations in our data-set for a 15-day test.\n",
    "\n",
    "We can use the simulated Multi-Cell data included in the GeoLiftPython folder as follows:"
   ]
  },
  {
   "cell_type": "code",
   "execution_count": 105,
   "id": "c2a241b0",
   "metadata": {},
   "outputs": [],
   "source": [
    "pd_GeoLift_Test_MultiCell = pd.read_csv(\"GeoLift_Test_MultiCell.csv\")\n",
    "pd_GeoLift_Test_MultiCell.head()"
   ]
  },
  {
   "cell_type": "markdown",
   "id": "09fb0ce1",
   "metadata": {},
   "source": [
    "To input the dataset in the GeoLift functions you need to convert it to a R dataframe using `ConvertDf()` setting up the `conv_type = \"ToR\"`. Then you can use `print()` to print the R dataframe in the screen."
   ]
  },
  {
   "cell_type": "code",
   "execution_count": 106,
   "id": "8dc1e25e",
   "metadata": {},
   "outputs": [],
   "source": [
    "GeoLift_Test_MultiCell = ConvertDf(pd_GeoLift_Test_MultiCell, conv_type = \"ToR\")\n",
    "\n",
    "print(GeoLift_Test_MultiCell.head())"
   ]
  },
  {
   "cell_type": "code",
   "execution_count": 107,
   "id": "2574b643",
   "metadata": {},
   "outputs": [],
   "source": [
    "# Read test data\n",
    "GeoTestData_Test = GeoLift.GeoDataRead(data = GeoLift_Test_MultiCell,\n",
    "                                       date_id = 'date',\n",
    "                                       location_id = 'location',\n",
    "                                       Y_id = 'Y',\n",
    "                                       X = StrVector([]), #empty list as we have no covariates\n",
    "                                       format = 'yyyy-mm-dd',\n",
    "                                       summary = True)"
   ]
  },
  {
   "cell_type": "markdown",
   "id": "67585adc",
   "metadata": {},
   "source": [
    "You can visualize in Pandas the dataframe formatted using `ConvertDf()`."
   ]
  },
  {
   "cell_type": "code",
   "execution_count": 108,
   "id": "59c75b28",
   "metadata": {},
   "outputs": [],
   "source": [
    "pd_GeoTestData_Test = ConvertDf(GeoTestData_Test, conv_type = \"ToPandas\")\n",
    "\n",
    "pd_GeoTestData_Test.head()"
   ]
  },
  {
   "cell_type": "code",
   "execution_count": 79,
   "id": "7fcb683a",
   "metadata": {},
   "outputs": [],
   "source": [
    "# Plot the historical and test data\n",
    "GeoLiftPlot(func = GeoLift.GeoPlot,\n",
    "            data = GeoTestData_Test,\n",
    "            treatment_start = 91)"
   ]
  },
  {
   "cell_type": "markdown",
   "id": "7c06cb78",
   "metadata": {},
   "source": [
    "### V. Multi-Cell Inference for GeoLift\n",
    "\n",
    "The final step in the process is to calculate the Lift generated by our Social Media and Paid Search campaigns. We can leverage the `GeoLiftMultiCell` function to easily perform statistical inference on our test. "
   ]
  },
  {
   "cell_type": "code",
   "execution_count": 80,
   "id": "6837ed1d",
   "metadata": {},
   "outputs": [],
   "source": [
    "# First we specify our test locations as a list\n",
    "test_locations = ListVector({'cell_1': ListVector({'a': \"chicago\", 'b': \"cincinnati\"}),\n",
    "                             'cell_2': ListVector({'a': \"honolulu\", 'b': \"indianapolis\"})\n",
    "                            })"
   ]
  },
  {
   "cell_type": "code",
   "execution_count": 109,
   "id": "de98f4e3",
   "metadata": {},
   "outputs": [],
   "source": [
    "#Then, we run MultiCellResults\n",
    "MultiCellResults = GeoLift.GeoLiftMultiCell(data = GeoTestData_Test,\n",
    "                                            locations = test_locations,\n",
    "                                            treatment_start_time = 91,\n",
    "                                            treatment_end_time = 105,\n",
    "                                            alpha = 0.1,\n",
    "                                            model = \"best\",\n",
    "                                            fixed_effects = True,\n",
    "                                            ConfidenceIntervals = True,\n",
    "                                            method = \"conformal\",\n",
    "                                            stat_test = \"Positive\",\n",
    "                                            winner_declaration = True)"
   ]
  },
  {
   "cell_type": "code",
   "execution_count": 110,
   "id": "f7ec8384",
   "metadata": {},
   "outputs": [],
   "source": [
    "print(MultiCellResults)"
   ]
  },
  {
   "cell_type": "markdown",
   "id": "69ed334f",
   "metadata": {},
   "source": [
    "The results show that the Social Media campaign had a significant Lift equal to 22.8% while the Paid Search campaigns generated a 7.1% Lift. And while the results of the test show a higher Lift by Cell 1, the wide Confidence Intervals do not allow us to declare a winner at a 90% confidence level. We can dig deeper into the results through the `summary_GeoLiftMultiCell()` of our Multi-Cell GeoLift object. The `summary_GeoLiftMultiCell()` method has two options based on the table parameter:\n",
    "\n",
    "1. If `table = TRUE` a summary table of the results per cell will be printed."
   ]
  },
  {
   "cell_type": "code",
   "execution_count": 111,
   "id": "87b5475d",
   "metadata": {},
   "outputs": [],
   "source": [
    "# Short summary of the results\n",
    "GeoLift.summary_GeoLiftMultiCell(MultiCellResults, table = True)"
   ]
  },
  {
   "cell_type": "markdown",
   "id": "bd3837e0",
   "metadata": {},
   "source": [
    "2. If `table = FALSE` the complete summary method for each cell will be outputted."
   ]
  },
  {
   "cell_type": "code",
   "execution_count": 112,
   "id": "81faec44",
   "metadata": {},
   "outputs": [],
   "source": [
    "# Deep dive into the results\n",
    "GeoLift.summary_GeoLiftMultiCell(MultiCellResults, table = False)"
   ]
  },
  {
   "cell_type": "markdown",
   "id": "ae75b100",
   "metadata": {},
   "source": [
    "Finally, we can plot the results to observe both the Lift and ATT plots."
   ]
  },
  {
   "cell_type": "code",
   "execution_count": 86,
   "id": "a8549bad",
   "metadata": {},
   "outputs": [],
   "source": [
    "GeoLiftPlot(func = GeoLift.plot_GeoLiftMultiCell,\n",
    "            x = MultiCellResults, \n",
    "            type = \"Lift\", \n",
    "            stacked = True)\n"
   ]
  },
  {
   "cell_type": "code",
   "execution_count": 82,
   "id": "048e050e",
   "metadata": {},
   "outputs": [],
   "source": [
    "GeoLiftPlot(func = GeoLift.plot_GeoLiftMultiCell,\n",
    "            x = MultiCellResults, \n",
    "            type = \"ATT\", \n",
    "            stacked = True)"
   ]
  }
 ],
 "metadata": {
  "kernelspec": {
   "display_name": "Python 3 (ipykernel)",
   "language": "python",
   "name": "python3"
  },
  "language_info": {
   "codemirror_mode": {
    "name": "ipython",
    "version": 3
   },
   "file_extension": ".py",
   "mimetype": "text/x-python",
   "name": "python",
   "nbconvert_exporter": "python",
   "pygments_lexer": "ipython3",
   "version": "3.10.6"
  }
 },
 "nbformat": 4,
 "nbformat_minor": 5
}
